{
 "cells": [
  {
   "cell_type": "markdown",
   "metadata": {},
   "source": [
    "# SwapCurves Class\n",
    "\n",
    "### Objetivo: \n",
    "\n",
    "???\n",
    "\n",
    "### Funcionalidades:\n",
    "\n",
    "* Visualizacao 3D da Curva de Juros\n",
    "* Obtencao de taxa para vencimento especifico\n",
    "* Historico da taxa forward entre dois vencimentos especificos\n",
    "* Visualizacao da Curva para data especifica\n",
    "* Historico da taxa para vencimento especifico\n",
    "* Historico da Duration para vencimento especifico\n",
    "\n",
    "#### Funcionalidades extras, criadas durante o desenvolvimento:\n",
    "\n",
    "* FinanceHub Holidays\n",
    "* FlatForward Interpolation\n",
    "\n",
    "### Funcionalidades Futuras:\n",
    "\n",
    "* Script para retirada de dados da Bloomberg e analise automatica da curva\n",
    "* Implementacao de mais calendarios"
   ]
  },
  {
   "cell_type": "markdown",
   "metadata": {},
   "source": [
    "# SwapCurves Class\n",
    "\n",
    "### Qual o seu objetivo?\n",
    "\n",
    "Aumentar o ferramental disponivel para o estudo e a analise de curvas de juros atraves de funcoes simples e objetivas."
   ]
  },
  {
   "cell_type": "markdown",
   "metadata": {},
   "source": [
    "### Mas... O que e um classe?\n",
    "\n",
    "Uma classe e uma generalizacao criada pelo programador. Tal generalizacao define uma serie de atributos, os quais serao definidos quando da inicializacao da classe, e da criacao de um obejto.\n",
    "\n",
    "Sabendo disso, podemos entender a vantagem de se trabalhar com essas estruturas: sua habilidade de customizacao."
   ]
  },
  {
   "cell_type": "markdown",
   "metadata": {},
   "source": [
    "#### Inicializando a classe:"
   ]
  },
  {
   "cell_type": "code",
   "execution_count": 1,
   "metadata": {},
   "outputs": [],
   "source": [
    "# Pandas e a biblioteca necessaria para ler os dados de nossa planilha\n",
    "import pandas as pd\n",
    "# Aqui importamos a nossa classe\n",
    "from SwapCurve import SwapCurve"
   ]
  },
  {
   "cell_type": "code",
   "execution_count": 2,
   "metadata": {},
   "outputs": [],
   "source": [
    "# Lemos os dados da tabela de exemplp\n",
    "data = pd.read_excel(\"example.xlsx\", index_col=0)\n",
    "# E entao instanciamos nosso objeto\n",
    "sc = SwapCurve(data, convention='business_days', calendar='br_anbima')"
   ]
  },
  {
   "cell_type": "markdown",
   "metadata": {},
   "source": [
    "##### Parametros de inicializacao:\n",
    "\n",
    "* Convencao\n",
    "  * Nos permite informar ao codigo qual convencao de dias esta sendo utilizada. Hoje o codigo possibilita a escolha entre dias utei e dias corridos, mas a implementacao de outras convencoes e rapida e facil.\n",
    "* Calendario\n",
    "  * Para uma analise correta, e necessario levar em consideracao os feriados. Logo, como cada curva possui seu proprio calendario, precisamos informar ao codigo qual calendario ele devera levar em consideracao. Atualmente possuimos suport somente para o calendario da ANBIMA. "
   ]
  },
  {
   "cell_type": "markdown",
   "metadata": {},
   "source": []
  }
 ],
 "metadata": {
  "kernelspec": {
   "display_name": "Python 3",
   "language": "python",
   "name": "python3"
  },
  "language_info": {
   "codemirror_mode": {
    "name": "ipython",
    "version": 3
   },
   "file_extension": ".py",
   "mimetype": "text/x-python",
   "name": "python",
   "nbconvert_exporter": "python",
   "pygments_lexer": "ipython3",
   "version": "3.6.7"
  }
 },
 "nbformat": 4,
 "nbformat_minor": 2
}
