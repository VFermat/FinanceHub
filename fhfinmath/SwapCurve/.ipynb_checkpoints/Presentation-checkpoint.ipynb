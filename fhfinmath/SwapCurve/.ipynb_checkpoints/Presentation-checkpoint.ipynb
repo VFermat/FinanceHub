{
 "cells": [
  {
   "cell_type": "markdown",
   "metadata": {},
   "source": [
    "# SwapCurves Class\n",
    "\n",
    "### Qual o seu objetivo?\n",
    "\n",
    "Aumentar o ferramental disponível para o estudo e a análise de curvas de juros através de funções simples e objetivas."
   ]
  },
  {
   "cell_type": "markdown",
   "metadata": {},
   "source": [
    "### Mas... O que é um classe?\n",
    "\n",
    "Uma classe é uma generalização criada pelo programador. Tal generalização define uma série de atributos, os quais serão definidos quando da inicialização da classe, e da criação de um objeto.\n",
    "\n",
    "Sabendo disso, podemos entender a vantagem de se trabalhar com essas estruturas: sua habilidade de customização."
   ]
  },
  {
   "cell_type": "markdown",
   "metadata": {},
   "source": [
    "#### Inicializando a classe:"
   ]
  },
  {
   "cell_type": "code",
   "execution_count": 2,
   "metadata": {},
   "outputs": [],
   "source": [
    "# Pandas e a biblioteca necessaria para ler os dados de nossa planilha\n",
    "import pandas as pd\n",
    "# Aqui importamos a nossa classe\n",
    "from SwapCurve import SwapCurve"
   ]
  },
  {
   "cell_type": "code",
   "execution_count": 3,
   "metadata": {},
   "outputs": [],
   "source": [
    "# Lemos os dados da tabela de exemplp\n",
    "data = pd.read_excel(\"example.xlsx\", index_col=0)\n",
    "# E entao instanciamos nosso objeto\n",
    "sc = SwapCurve(data, convention='business_days', calendar='br_anbima')"
   ]
  },
  {
   "cell_type": "markdown",
   "metadata": {},
   "source": [
    "##### Parâmetros de inicialização:\n",
    "\n",
    "* Convenção\n",
    "  * Nos permite informar ao código qual convenção de dias está sendo utilizada. Hoje o código possibilita a escolha entre dias úteis e dias corridos, mas a implementação de outras convenções é rápida e fácil.\n",
    "* Calendário\n",
    "  * Para uma análise correta, é necessário levar em consideração os feriados. Logo, como cada curva possui seu próprio calendário, precisamos informar ao código qual calendário ele deverá levar em consideração. Atualmente possuímos suporte somente para o calendário da ANBIMA. "
   ]
  },
  {
   "cell_type": "markdown",
   "metadata": {},
   "source": [
    "### Funcionalidades"
   ]
  },
  {
   "cell_type": "markdown",
   "metadata": {},
   "source": [
    "##### Obtenção de Taxa\n",
    "\n",
    "Passe uma lista de datas e vencimentos desejados para a função, e obtenha as taxas!\n",
    "\n",
    "Realiza a operação através da interpolação da curva daquela data. Por isso, aceita um argumento extra (`interpolation_methods`), que define qual/quais método(s) de interpolação serão usados."
   ]
  },
  {
   "cell_type": "code",
   "execution_count": 5,
   "metadata": {},
   "outputs": [
    {
     "data": {
      "application/vnd.jupyter.widget-view+json": {
       "model_id": "4a3768664e3e488dbd2cf648a41aca37",
       "version_major": 2,
       "version_minor": 0
      },
      "text/html": [
       "<p>Failed to display Jupyter Widget of type <code>Dropdown</code>.</p>\n",
       "<p>\n",
       "  If you're reading this message in the Jupyter Notebook or JupyterLab Notebook, it may mean\n",
       "  that the widgets JavaScript is still loading. If this message persists, it\n",
       "  likely means that the widgets JavaScript library is either not installed or\n",
       "  not enabled. See the <a href=\"https://ipywidgets.readthedocs.io/en/stable/user_install.html\">Jupyter\n",
       "  Widgets Documentation</a> for setup instructions.\n",
       "</p>\n",
       "<p>\n",
       "  If you're reading this message in another frontend (for example, a static\n",
       "  rendering on GitHub or <a href=\"https://nbviewer.jupyter.org/\">NBViewer</a>),\n",
       "  it may mean that your frontend doesn't currently support widgets.\n",
       "</p>\n"
      ],
      "text/plain": [
       "Dropdown(options=(Timestamp('2014-01-10 00:00:00'), Timestamp('2014-01-17 00:00:00'), Timestamp('2014-01-24 00:00:00'), Timestamp('2014-01-31 00:00:00'), Timestamp('2014-02-07 00:00:00'), Timestamp('2014-02-14 00:00:00'), Timestamp('2014-02-21 00:00:00'), Timestamp('2014-02-28 00:00:00'), Timestamp('2014-03-07 00:00:00'), Timestamp('2014-03-14 00:00:00'), Timestamp('2014-03-21 00:00:00'), Timestamp('2014-03-28 00:00:00'), Timestamp('2014-04-04 00:00:00'), Timestamp('2014-04-11 00:00:00'), Timestamp('2014-04-18 00:00:00'), Timestamp('2014-04-25 00:00:00'), Timestamp('2014-05-02 00:00:00'), Timestamp('2014-05-09 00:00:00'), Timestamp('2014-05-16 00:00:00'), Timestamp('2014-05-23 00:00:00'), Timestamp('2014-05-30 00:00:00'), Timestamp('2014-06-06 00:00:00'), Timestamp('2014-06-13 00:00:00'), Timestamp('2014-06-20 00:00:00'), Timestamp('2014-06-27 00:00:00'), Timestamp('2014-07-04 00:00:00'), Timestamp('2014-07-11 00:00:00'), Timestamp('2014-07-18 00:00:00'), Timestamp('2014-07-25 00:00:00'), Timestamp('2014-08-01 00:00:00'), Timestamp('2014-08-08 00:00:00'), Timestamp('2014-08-15 00:00:00'), Timestamp('2014-08-22 00:00:00'), Timestamp('2014-08-29 00:00:00'), Timestamp('2014-09-05 00:00:00'), Timestamp('2014-09-12 00:00:00'), Timestamp('2014-09-19 00:00:00'), Timestamp('2014-09-26 00:00:00'), Timestamp('2014-10-03 00:00:00'), Timestamp('2014-10-10 00:00:00'), Timestamp('2014-10-17 00:00:00'), Timestamp('2014-10-24 00:00:00'), Timestamp('2014-10-31 00:00:00'), Timestamp('2014-11-07 00:00:00'), Timestamp('2014-11-14 00:00:00'), Timestamp('2014-11-21 00:00:00'), Timestamp('2014-11-28 00:00:00'), Timestamp('2014-12-05 00:00:00'), Timestamp('2014-12-12 00:00:00'), Timestamp('2014-12-19 00:00:00'), Timestamp('2014-12-26 00:00:00'), Timestamp('2015-01-02 00:00:00'), Timestamp('2015-01-09 00:00:00'), Timestamp('2015-01-16 00:00:00'), Timestamp('2015-01-23 00:00:00'), Timestamp('2015-01-30 00:00:00'), Timestamp('2015-02-06 00:00:00'), Timestamp('2015-02-13 00:00:00'), Timestamp('2015-02-20 00:00:00'), Timestamp('2015-02-27 00:00:00'), Timestamp('2015-03-06 00:00:00'), Timestamp('2015-03-13 00:00:00'), Timestamp('2015-03-20 00:00:00'), Timestamp('2015-03-27 00:00:00'), Timestamp('2015-04-03 00:00:00'), Timestamp('2015-04-10 00:00:00'), Timestamp('2015-04-17 00:00:00'), Timestamp('2015-04-24 00:00:00'), Timestamp('2015-05-01 00:00:00'), Timestamp('2015-05-08 00:00:00'), Timestamp('2015-05-15 00:00:00'), Timestamp('2015-05-22 00:00:00'), Timestamp('2015-05-29 00:00:00'), Timestamp('2015-06-05 00:00:00'), Timestamp('2015-06-12 00:00:00'), Timestamp('2015-06-19 00:00:00'), Timestamp('2015-06-26 00:00:00'), Timestamp('2015-07-03 00:00:00'), Timestamp('2015-07-10 00:00:00'), Timestamp('2015-07-17 00:00:00'), Timestamp('2015-07-24 00:00:00'), Timestamp('2015-07-31 00:00:00'), Timestamp('2015-08-07 00:00:00'), Timestamp('2015-08-14 00:00:00'), Timestamp('2015-08-21 00:00:00'), Timestamp('2015-08-28 00:00:00'), Timestamp('2015-09-04 00:00:00'), Timestamp('2015-09-11 00:00:00'), Timestamp('2015-09-18 00:00:00'), Timestamp('2015-09-25 00:00:00'), Timestamp('2015-10-02 00:00:00'), Timestamp('2015-10-09 00:00:00'), Timestamp('2015-10-16 00:00:00'), Timestamp('2015-10-23 00:00:00'), Timestamp('2015-10-30 00:00:00'), Timestamp('2015-11-06 00:00:00'), Timestamp('2015-11-13 00:00:00'), Timestamp('2015-11-20 00:00:00'), Timestamp('2015-11-27 00:00:00'), Timestamp('2015-12-04 00:00:00'), Timestamp('2015-12-11 00:00:00'), Timestamp('2015-12-18 00:00:00'), Timestamp('2015-12-25 00:00:00'), Timestamp('2016-01-01 00:00:00'), Timestamp('2016-01-08 00:00:00'), Timestamp('2016-01-15 00:00:00'), Timestamp('2016-01-22 00:00:00'), Timestamp('2016-01-29 00:00:00'), Timestamp('2016-02-05 00:00:00'), Timestamp('2016-02-12 00:00:00'), Timestamp('2016-02-19 00:00:00'), Timestamp('2016-02-26 00:00:00'), Timestamp('2016-03-04 00:00:00'), Timestamp('2016-03-11 00:00:00'), Timestamp('2016-03-18 00:00:00'), Timestamp('2016-03-25 00:00:00'), Timestamp('2016-04-01 00:00:00'), Timestamp('2016-04-08 00:00:00'), Timestamp('2016-04-15 00:00:00'), Timestamp('2016-04-22 00:00:00'), Timestamp('2016-04-29 00:00:00'), Timestamp('2016-05-06 00:00:00'), Timestamp('2016-05-13 00:00:00'), Timestamp('2016-05-20 00:00:00'), Timestamp('2016-05-27 00:00:00'), Timestamp('2016-06-03 00:00:00'), Timestamp('2016-06-10 00:00:00'), Timestamp('2016-06-17 00:00:00'), Timestamp('2016-06-24 00:00:00'), Timestamp('2016-07-01 00:00:00'), Timestamp('2016-07-08 00:00:00'), Timestamp('2016-07-15 00:00:00'), Timestamp('2016-07-22 00:00:00'), Timestamp('2016-07-29 00:00:00'), Timestamp('2016-08-05 00:00:00'), Timestamp('2016-08-12 00:00:00'), Timestamp('2016-08-19 00:00:00'), Timestamp('2016-08-26 00:00:00'), Timestamp('2016-09-02 00:00:00'), Timestamp('2016-09-09 00:00:00'), Timestamp('2016-09-16 00:00:00'), Timestamp('2016-09-23 00:00:00'), Timestamp('2016-09-30 00:00:00'), Timestamp('2016-10-07 00:00:00'), Timestamp('2016-10-14 00:00:00'), Timestamp('2016-10-21 00:00:00'), Timestamp('2016-10-28 00:00:00'), Timestamp('2016-11-04 00:00:00'), Timestamp('2016-11-11 00:00:00'), Timestamp('2016-11-18 00:00:00'), Timestamp('2016-11-25 00:00:00'), Timestamp('2016-12-02 00:00:00'), Timestamp('2016-12-09 00:00:00'), Timestamp('2016-12-16 00:00:00'), Timestamp('2016-12-23 00:00:00'), Timestamp('2016-12-30 00:00:00'), Timestamp('2017-01-06 00:00:00'), Timestamp('2017-01-13 00:00:00'), Timestamp('2017-01-20 00:00:00'), Timestamp('2017-01-27 00:00:00'), Timestamp('2017-02-03 00:00:00'), Timestamp('2017-02-10 00:00:00'), Timestamp('2017-02-17 00:00:00'), Timestamp('2017-02-24 00:00:00'), Timestamp('2017-03-03 00:00:00'), Timestamp('2017-03-10 00:00:00'), Timestamp('2017-03-17 00:00:00'), Timestamp('2017-03-24 00:00:00'), Timestamp('2017-03-31 00:00:00'), Timestamp('2017-04-07 00:00:00'), Timestamp('2017-04-14 00:00:00'), Timestamp('2017-04-21 00:00:00'), Timestamp('2017-04-28 00:00:00'), Timestamp('2017-05-05 00:00:00'), Timestamp('2017-05-12 00:00:00'), Timestamp('2017-05-19 00:00:00'), Timestamp('2017-05-26 00:00:00'), Timestamp('2017-06-02 00:00:00'), Timestamp('2017-06-09 00:00:00'), Timestamp('2017-06-16 00:00:00'), Timestamp('2017-06-23 00:00:00'), Timestamp('2017-06-30 00:00:00'), Timestamp('2017-07-07 00:00:00'), Timestamp('2017-07-14 00:00:00'), Timestamp('2017-07-21 00:00:00'), Timestamp('2017-07-28 00:00:00'), Timestamp('2017-08-04 00:00:00'), Timestamp('2017-08-11 00:00:00'), Timestamp('2017-08-18 00:00:00'), Timestamp('2017-08-25 00:00:00'), Timestamp('2017-09-01 00:00:00'), Timestamp('2017-09-08 00:00:00'), Timestamp('2017-09-15 00:00:00'), Timestamp('2017-09-22 00:00:00'), Timestamp('2017-09-29 00:00:00'), Timestamp('2017-10-06 00:00:00'), Timestamp('2017-10-13 00:00:00'), Timestamp('2017-10-20 00:00:00'), Timestamp('2017-10-27 00:00:00'), Timestamp('2017-11-03 00:00:00'), Timestamp('2017-11-10 00:00:00'), Timestamp('2017-11-17 00:00:00'), Timestamp('2017-11-24 00:00:00'), Timestamp('2017-12-01 00:00:00'), Timestamp('2017-12-08 00:00:00'), Timestamp('2017-12-15 00:00:00'), Timestamp('2017-12-22 00:00:00'), Timestamp('2017-12-29 00:00:00'), Timestamp('2018-01-05 00:00:00'), Timestamp('2018-01-12 00:00:00'), Timestamp('2018-01-19 00:00:00'), Timestamp('2018-01-26 00:00:00'), Timestamp('2018-02-02 00:00:00'), Timestamp('2018-02-09 00:00:00'), Timestamp('2018-02-16 00:00:00'), Timestamp('2018-02-23 00:00:00'), Timestamp('2018-03-02 00:00:00'), Timestamp('2018-03-09 00:00:00'), Timestamp('2018-03-16 00:00:00'), Timestamp('2018-03-23 00:00:00'), Timestamp('2018-03-30 00:00:00'), Timestamp('2018-04-06 00:00:00'), Timestamp('2018-04-13 00:00:00'), Timestamp('2018-04-20 00:00:00'), Timestamp('2018-04-27 00:00:00'), Timestamp('2018-05-04 00:00:00'), Timestamp('2018-05-11 00:00:00'), Timestamp('2018-05-18 00:00:00'), Timestamp('2018-05-25 00:00:00'), Timestamp('2018-06-01 00:00:00'), Timestamp('2018-06-08 00:00:00'), Timestamp('2018-06-15 00:00:00'), Timestamp('2018-06-22 00:00:00'), Timestamp('2018-06-29 00:00:00'), Timestamp('2018-07-06 00:00:00'), Timestamp('2018-07-13 00:00:00'), Timestamp('2018-07-20 00:00:00'), Timestamp('2018-07-27 00:00:00'), Timestamp('2018-08-03 00:00:00'), Timestamp('2018-08-10 00:00:00'), Timestamp('2018-08-17 00:00:00'), Timestamp('2018-08-24 00:00:00'), Timestamp('2018-08-31 00:00:00'), Timestamp('2018-09-07 00:00:00'), Timestamp('2018-09-14 00:00:00'), Timestamp('2018-09-21 00:00:00'), Timestamp('2018-09-28 00:00:00'), Timestamp('2018-10-05 00:00:00'), Timestamp('2018-10-12 00:00:00'), Timestamp('2018-10-19 00:00:00'), Timestamp('2018-10-26 00:00:00'), Timestamp('2018-11-02 00:00:00'), Timestamp('2018-11-09 00:00:00'), Timestamp('2018-11-16 00:00:00'), Timestamp('2018-11-23 00:00:00'), Timestamp('2018-11-30 00:00:00'), Timestamp('2018-12-07 00:00:00'), Timestamp('2018-12-14 00:00:00'), Timestamp('2018-12-21 00:00:00'), Timestamp('2018-12-28 00:00:00'), Timestamp('2019-01-04 00:00:00'), Timestamp('2019-01-08 00:00:00')), value=Timestamp('2014-01-10 00:00:00'))"
      ]
     },
     "metadata": {},
     "output_type": "display_data"
    }
   ],
   "source": [
    "from IPython.display import *\n",
    "import ipywidgets as widgets\n",
    "from ipywidgets import *\n",
    "import pprint\n",
    "\n",
    "widget = Dropdown(options=data.columns)\n",
    "display(widget)"
   ]
  },
  {
   "cell_type": "code",
   "execution_count": 6,
   "metadata": {},
   "outputs": [
    {
     "data": {
      "application/vnd.jupyter.widget-view+json": {
       "model_id": "5071dbfdb71f4a46a7b2eba0706028f1",
       "version_major": 2,
       "version_minor": 0
      },
      "text/html": [
       "<p>Failed to display Jupyter Widget of type <code>IntSlider</code>.</p>\n",
       "<p>\n",
       "  If you're reading this message in the Jupyter Notebook or JupyterLab Notebook, it may mean\n",
       "  that the widgets JavaScript is still loading. If this message persists, it\n",
       "  likely means that the widgets JavaScript library is either not installed or\n",
       "  not enabled. See the <a href=\"https://ipywidgets.readthedocs.io/en/stable/user_install.html\">Jupyter\n",
       "  Widgets Documentation</a> for setup instructions.\n",
       "</p>\n",
       "<p>\n",
       "  If you're reading this message in another frontend (for example, a static\n",
       "  rendering on GitHub or <a href=\"https://nbviewer.jupyter.org/\">NBViewer</a>),\n",
       "  it may mean that your frontend doesn't currently support widgets.\n",
       "</p>\n"
      ],
      "text/plain": [
       "IntSlider(value=30, max=720, min=30)"
      ]
     },
     "metadata": {},
     "output_type": "display_data"
    }
   ],
   "source": [
    "widget2 = IntSlider(min=30, max=720)\n",
    "display(widget2)"
   ]
  },
  {
   "cell_type": "code",
   "execution_count": 7,
   "metadata": {},
   "outputs": [
    {
     "name": "stdout",
     "output_type": "stream",
     "text": [
      "{'cubic':                   227\n",
      "2017-03-03  10.205194,\n",
      " 'flat_forward':                   227\n",
      "2017-03-03  10.204033}\n"
     ]
    }
   ],
   "source": [
    "date = widget.value\n",
    "maturity = widget2.value\n",
    "\n",
    "rate = sc.get_rate([date], [maturity], ['cubic', 'flat_forward'])\n",
    "pprint.PrettyPrinter().pprint(rate)"
   ]
  },
  {
   "cell_type": "markdown",
   "metadata": {},
   "source": [
    "##### Visualização da Curva\n",
    "\n",
    "Plota a curva de juros para uma data específica.\n",
    "\n",
    "Também permite interpolação!"
   ]
  },
  {
   "cell_type": "code",
   "execution_count": 8,
   "metadata": {},
   "outputs": [
    {
     "data": {
      "image/png": "[encoded data removed]",
      "text/plain": [
       "<Figure size 432x288 with 1 Axes>"
      ]
     },
     "metadata": {},
     "output_type": "display_data"
    }
   ],
   "source": [
    "sc.plot_day_curve([date], interpolate=True, interpolate_methods=['cubic'])"
   ]
  },
  {
   "cell_type": "markdown",
   "metadata": {},
   "source": [
    "##### Histórico de um Vencimento\n",
    "\n",
    "Mostra o histórico das taxas de juros para um vencimento específico."
   ]
  },
  {
   "cell_type": "code",
   "execution_count": 9,
   "metadata": {},
   "outputs": [
    {
     "data": {
      "application/vnd.jupyter.widget-view+json": {
       "model_id": "974521e2708e4bea82022b9a4dad6b47",
       "version_major": 2,
       "version_minor": 0
      },
      "text/html": [
       "<p>Failed to display Jupyter Widget of type <code>IntSlider</code>.</p>\n",
       "<p>\n",
       "  If you're reading this message in the Jupyter Notebook or JupyterLab Notebook, it may mean\n",
       "  that the widgets JavaScript is still loading. If this message persists, it\n",
       "  likely means that the widgets JavaScript library is either not installed or\n",
       "  not enabled. See the <a href=\"https://ipywidgets.readthedocs.io/en/stable/user_install.html\">Jupyter\n",
       "  Widgets Documentation</a> for setup instructions.\n",
       "</p>\n",
       "<p>\n",
       "  If you're reading this message in another frontend (for example, a static\n",
       "  rendering on GitHub or <a href=\"https://nbviewer.jupyter.org/\">NBViewer</a>),\n",
       "  it may mean that your frontend doesn't currently support widgets.\n",
       "</p>\n"
      ],
      "text/plain": [
       "IntSlider(value=30, max=1000, min=30)"
      ]
     },
     "metadata": {},
     "output_type": "display_data"
    }
   ],
   "source": [
    "widget3 = IntSlider(min=30, max=1000)\n",
    "display(widget3)"
   ]
  },
  {
   "cell_type": "code",
   "execution_count": 10,
   "metadata": {},
   "outputs": [
    {
     "data": {
      "image/png": "[encoded data removed]",
      "text/plain": [
       "<Figure size 432x288 with 1 Axes>"
      ]
     },
     "metadata": {},
     "output_type": "display_data"
    },
    {
     "data": {
      "text/plain": [
       "2014-01-10    11.566515\n",
       "2014-01-17    11.687492\n",
       "2014-01-24    12.026636\n",
       "2014-01-31    12.545587\n",
       "2014-02-07    12.170800\n",
       "Name: 448, dtype: float64"
      ]
     },
     "execution_count": 10,
     "metadata": {},
     "output_type": "execute_result"
    }
   ],
   "source": [
    "maturity = widget3.value\n",
    "rates = sc.get_historic_rates(maturity, plot=True)\n",
    "rates.head()"
   ]
  },
  {
   "cell_type": "markdown",
   "metadata": {},
   "source": [
    "##### Histórico de uma taxa forward.\n",
    "\n",
    "O objeto SwapCurves também possibilita a obtenção do histórico de uma taxa forward entre dois vencimentos específicos! Essa função também aceita diferentes métodos de interpolação."
   ]
  },
  {
   "cell_type": "code",
   "execution_count": 11,
   "metadata": {},
   "outputs": [
    {
     "data": {
      "application/vnd.jupyter.widget-view+json": {
       "model_id": "b70eece3fb024e2296e0a6a9d334cca6",
       "version_major": 2,
       "version_minor": 0
      },
      "text/html": [
       "<p>Failed to display Jupyter Widget of type <code>IntSlider</code>.</p>\n",
       "<p>\n",
       "  If you're reading this message in the Jupyter Notebook or JupyterLab Notebook, it may mean\n",
       "  that the widgets JavaScript is still loading. If this message persists, it\n",
       "  likely means that the widgets JavaScript library is either not installed or\n",
       "  not enabled. See the <a href=\"https://ipywidgets.readthedocs.io/en/stable/user_install.html\">Jupyter\n",
       "  Widgets Documentation</a> for setup instructions.\n",
       "</p>\n",
       "<p>\n",
       "  If you're reading this message in another frontend (for example, a static\n",
       "  rendering on GitHub or <a href=\"https://nbviewer.jupyter.org/\">NBViewer</a>),\n",
       "  it may mean that your frontend doesn't currently support widgets.\n",
       "</p>\n"
      ],
      "text/plain": [
       "IntSlider(value=30, max=1000, min=30)"
      ]
     },
     "metadata": {},
     "output_type": "display_data"
    }
   ],
   "source": [
    "widget4 = IntSlider(min=30, max=1000)\n",
    "display(widget4)"
   ]
  },
  {
   "cell_type": "code",
   "execution_count": 12,
   "metadata": {},
   "outputs": [
    {
     "data": {
      "application/vnd.jupyter.widget-view+json": {
       "model_id": "58f115f70a204cfa94235ac621d8ad62",
       "version_major": 2,
       "version_minor": 0
      },
      "text/html": [
       "<p>Failed to display Jupyter Widget of type <code>IntSlider</code>.</p>\n",
       "<p>\n",
       "  If you're reading this message in the Jupyter Notebook or JupyterLab Notebook, it may mean\n",
       "  that the widgets JavaScript is still loading. If this message persists, it\n",
       "  likely means that the widgets JavaScript library is either not installed or\n",
       "  not enabled. See the <a href=\"https://ipywidgets.readthedocs.io/en/stable/user_install.html\">Jupyter\n",
       "  Widgets Documentation</a> for setup instructions.\n",
       "</p>\n",
       "<p>\n",
       "  If you're reading this message in another frontend (for example, a static\n",
       "  rendering on GitHub or <a href=\"https://nbviewer.jupyter.org/\">NBViewer</a>),\n",
       "  it may mean that your frontend doesn't currently support widgets.\n",
       "</p>\n"
      ],
      "text/plain": [
       "IntSlider(value=179, max=1500, min=179)"
      ]
     },
     "metadata": {},
     "output_type": "display_data"
    }
   ],
   "source": [
    "maturity1 = widget4.value\n",
    "widget5=IntSlider(min=maturity1+1, max=1500)\n",
    "display(widget5)"
   ]
  },
  {
   "cell_type": "code",
   "execution_count": 13,
   "metadata": {},
   "outputs": [
    {
     "data": {
      "image/png": "[encoded data removed]",
      "text/plain": [
       "<Figure size 432x288 with 1 Axes>"
      ]
     },
     "metadata": {},
     "output_type": "display_data"
    }
   ],
   "source": [
    "maturity2 = widget5.value\n",
    "forwards = sc.get_historic_forward(maturity1, maturity2, plot=True, interpolate_method='flat_forward')"
   ]
  },
  {
   "cell_type": "markdown",
   "metadata": {},
   "source": [
    "##### Histórico da Duration\n",
    "\n",
    "A última função disponível é a que nos retorna o histórico da duration de um título para determinado vencimento."
   ]
  },
  {
   "cell_type": "code",
   "execution_count": 14,
   "metadata": {},
   "outputs": [
    {
     "data": {
      "application/vnd.jupyter.widget-view+json": {
       "model_id": "4a2d6ab5eb3048ae9382dfd4534a0ee7",
       "version_major": 2,
       "version_minor": 0
      },
      "text/html": [
       "<p>Failed to display Jupyter Widget of type <code>IntSlider</code>.</p>\n",
       "<p>\n",
       "  If you're reading this message in the Jupyter Notebook or JupyterLab Notebook, it may mean\n",
       "  that the widgets JavaScript is still loading. If this message persists, it\n",
       "  likely means that the widgets JavaScript library is either not installed or\n",
       "  not enabled. See the <a href=\"https://ipywidgets.readthedocs.io/en/stable/user_install.html\">Jupyter\n",
       "  Widgets Documentation</a> for setup instructions.\n",
       "</p>\n",
       "<p>\n",
       "  If you're reading this message in another frontend (for example, a static\n",
       "  rendering on GitHub or <a href=\"https://nbviewer.jupyter.org/\">NBViewer</a>),\n",
       "  it may mean that your frontend doesn't currently support widgets.\n",
       "</p>\n"
      ],
      "text/plain": [
       "IntSlider(value=30, max=1000, min=30)"
      ]
     },
     "metadata": {},
     "output_type": "display_data"
    }
   ],
   "source": [
    "widget6 = IntSlider(min=30, max=1000)\n",
    "display(widget6)"
   ]
  },
  {
   "cell_type": "code",
   "execution_count": 15,
   "metadata": {},
   "outputs": [
    {
     "data": {
      "image/png": "[encoded data removed]",
      "text/plain": [
       "<Figure size 432x288 with 1 Axes>"
      ]
     },
     "metadata": {},
     "output_type": "display_data"
    }
   ],
   "source": [
    "maturity = widget6.value\n",
    "durations = sc.get_historic_duration(maturity, plot=True)"
   ]
  },
  {
   "cell_type": "markdown",
   "metadata": {},
   "source": [
    "### Outras funcionalidades desenvolvidas:\n",
    "\n",
    "Além do objeto de curvas de juros, tivemos duas outras funcionalidades que acabaram saindo do papel durante o projeto: o calendário ANBIMA e a interpolação Flat Forward.\n",
    "\n",
    "* O calendário:\n",
    "\n",
    "O calendário ANBIMA faz parte de uma nova biblioteca do FinanceHub, uma biblioteca que futuramente conterá dados de feriados de diversos calendários no mundo. Através dessa biblioteca será possível fazer análises precisas que levem em conta os dias úteis de cada país/título.\n",
    "\n",
    "* A interpolação:\n",
    "\n",
    "Tornamos possível a utilização do método Flat Forward nas interpolações do nosso método. Como  tal interpolação é bastante utilizada no mercado local, acabamos por deixá-la como uma nova classe, que pode ser utilizada por outras classes ou outros codigos."
   ]
  },
  {
   "cell_type": "markdown",
   "metadata": {},
   "source": [
    "### E agora?\n",
    "\n",
    "Ainda existe muito a ser desenvolvido para nossa classe, já que ela pode passar a ser uma generalização maior ainda, incluíndo curvas que possuam cupons. Além disso, também precisamos aumentar a quantidade de calendários disponíveis!\n",
    "\n",
    "Já para o FinanceHub, acreditamos que o futuro se embasa no desejo de aumentar o uso da biblioteca. Isso passa principalmente pelo desafio de tornar a biblioteca Open Source, e de distribuí-la pelos mais usados métodos de distribuição no mundo dos desenvolvedores Python (PyPi, Easy-Install e Conda)."
   ]
  }
 ],
 "metadata": {
  "kernelspec": {
   "display_name": "Python 3",
   "language": "python",
   "name": "python3"
  },
  "language_info": {
   "codemirror_mode": {
    "name": "ipython",
    "version": 3
   },
   "file_extension": ".py",
   "mimetype": "text/x-python",
   "name": "python",
   "nbconvert_exporter": "python",
   "pygments_lexer": "ipython3",
   "version": "3.6.7"
  }
 },
 "nbformat": 4,
 "nbformat_minor": 2
}
